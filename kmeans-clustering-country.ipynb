{
 "cells": [
  {
   "cell_type": "code",
   "execution_count": 1,
   "id": "e09b0346",
   "metadata": {
    "execution": {
     "iopub.execute_input": "2024-03-25T03:53:13.736562Z",
     "iopub.status.busy": "2024-03-25T03:53:13.736134Z",
     "iopub.status.idle": "2024-03-25T03:53:14.826685Z",
     "shell.execute_reply": "2024-03-25T03:53:14.825364Z"
    },
    "papermill": {
     "duration": 1.100154,
     "end_time": "2024-03-25T03:53:14.829378",
     "exception": false,
     "start_time": "2024-03-25T03:53:13.729224",
     "status": "completed"
    },
    "tags": []
   },
   "outputs": [
    {
     "name": "stdout",
     "output_type": "stream",
     "text": [
      "<class 'pandas.core.frame.DataFrame'>\n",
      "RangeIndex: 167 entries, 0 to 166\n",
      "Data columns (total 10 columns):\n",
      " #   Column      Non-Null Count  Dtype  \n",
      "---  ------      --------------  -----  \n",
      " 0   country     167 non-null    object \n",
      " 1   child_mort  167 non-null    float64\n",
      " 2   exports     167 non-null    float64\n",
      " 3   health      167 non-null    float64\n",
      " 4   imports     167 non-null    float64\n",
      " 5   income      167 non-null    int64  \n",
      " 6   inflation   167 non-null    float64\n",
      " 7   life_expec  167 non-null    float64\n",
      " 8   total_fer   167 non-null    float64\n",
      " 9   gdpp        167 non-null    int64  \n",
      "dtypes: float64(7), int64(2), object(1)\n",
      "memory usage: 13.2+ KB\n"
     ]
    }
   ],
   "source": [
    "import pandas as pd\n",
    "df = pd.read_csv('/kaggle/input/dataset-negara/Country-data.csv')\n",
    "df.head(3)\n",
    "df.info()"
   ]
  },
  {
   "cell_type": "code",
   "execution_count": 2,
   "id": "8f9a3149",
   "metadata": {
    "execution": {
     "iopub.execute_input": "2024-03-25T03:53:14.840299Z",
     "iopub.status.busy": "2024-03-25T03:53:14.839883Z",
     "iopub.status.idle": "2024-03-25T03:53:14.866339Z",
     "shell.execute_reply": "2024-03-25T03:53:14.865191Z"
    },
    "papermill": {
     "duration": 0.034727,
     "end_time": "2024-03-25T03:53:14.868876",
     "exception": false,
     "start_time": "2024-03-25T03:53:14.834149",
     "status": "completed"
    },
    "tags": []
   },
   "outputs": [
    {
     "data": {
      "text/html": [
       "<div>\n",
       "<style scoped>\n",
       "    .dataframe tbody tr th:only-of-type {\n",
       "        vertical-align: middle;\n",
       "    }\n",
       "\n",
       "    .dataframe tbody tr th {\n",
       "        vertical-align: top;\n",
       "    }\n",
       "\n",
       "    .dataframe thead th {\n",
       "        text-align: right;\n",
       "    }\n",
       "</style>\n",
       "<table border=\"1\" class=\"dataframe\">\n",
       "  <thead>\n",
       "    <tr style=\"text-align: right;\">\n",
       "      <th></th>\n",
       "      <th>country</th>\n",
       "      <th>child_mort</th>\n",
       "      <th>exports</th>\n",
       "      <th>health</th>\n",
       "      <th>imports</th>\n",
       "      <th>income</th>\n",
       "      <th>inflation</th>\n",
       "      <th>life_expec</th>\n",
       "      <th>total_fer</th>\n",
       "      <th>gdpp</th>\n",
       "    </tr>\n",
       "  </thead>\n",
       "  <tbody>\n",
       "    <tr>\n",
       "      <th>0</th>\n",
       "      <td>Afghanistan</td>\n",
       "      <td>90.2</td>\n",
       "      <td>10.0</td>\n",
       "      <td>7.58</td>\n",
       "      <td>44.9</td>\n",
       "      <td>1610</td>\n",
       "      <td>9.44</td>\n",
       "      <td>56.2</td>\n",
       "      <td>5.82</td>\n",
       "      <td>553</td>\n",
       "    </tr>\n",
       "    <tr>\n",
       "      <th>1</th>\n",
       "      <td>Albania</td>\n",
       "      <td>16.6</td>\n",
       "      <td>28.0</td>\n",
       "      <td>6.55</td>\n",
       "      <td>48.6</td>\n",
       "      <td>9930</td>\n",
       "      <td>4.49</td>\n",
       "      <td>76.3</td>\n",
       "      <td>1.65</td>\n",
       "      <td>4090</td>\n",
       "    </tr>\n",
       "    <tr>\n",
       "      <th>2</th>\n",
       "      <td>Algeria</td>\n",
       "      <td>27.3</td>\n",
       "      <td>38.4</td>\n",
       "      <td>4.17</td>\n",
       "      <td>31.4</td>\n",
       "      <td>12900</td>\n",
       "      <td>16.10</td>\n",
       "      <td>76.5</td>\n",
       "      <td>2.89</td>\n",
       "      <td>4460</td>\n",
       "    </tr>\n",
       "    <tr>\n",
       "      <th>3</th>\n",
       "      <td>Angola</td>\n",
       "      <td>119.0</td>\n",
       "      <td>62.3</td>\n",
       "      <td>2.85</td>\n",
       "      <td>42.9</td>\n",
       "      <td>5900</td>\n",
       "      <td>22.40</td>\n",
       "      <td>60.1</td>\n",
       "      <td>6.16</td>\n",
       "      <td>3530</td>\n",
       "    </tr>\n",
       "    <tr>\n",
       "      <th>4</th>\n",
       "      <td>Antigua and Barbuda</td>\n",
       "      <td>10.3</td>\n",
       "      <td>45.5</td>\n",
       "      <td>6.03</td>\n",
       "      <td>58.9</td>\n",
       "      <td>19100</td>\n",
       "      <td>1.44</td>\n",
       "      <td>76.8</td>\n",
       "      <td>2.13</td>\n",
       "      <td>12200</td>\n",
       "    </tr>\n",
       "  </tbody>\n",
       "</table>\n",
       "</div>"
      ],
      "text/plain": [
       "               country  child_mort  exports  health  imports  income  \\\n",
       "0          Afghanistan        90.2     10.0    7.58     44.9    1610   \n",
       "1              Albania        16.6     28.0    6.55     48.6    9930   \n",
       "2              Algeria        27.3     38.4    4.17     31.4   12900   \n",
       "3               Angola       119.0     62.3    2.85     42.9    5900   \n",
       "4  Antigua and Barbuda        10.3     45.5    6.03     58.9   19100   \n",
       "\n",
       "   inflation  life_expec  total_fer   gdpp  \n",
       "0       9.44        56.2       5.82    553  \n",
       "1       4.49        76.3       1.65   4090  \n",
       "2      16.10        76.5       2.89   4460  \n",
       "3      22.40        60.1       6.16   3530  \n",
       "4       1.44        76.8       2.13  12200  "
      ]
     },
     "execution_count": 2,
     "metadata": {},
     "output_type": "execute_result"
    }
   ],
   "source": [
    "df.head()"
   ]
  },
  {
   "cell_type": "code",
   "execution_count": 3,
   "id": "8726d53c",
   "metadata": {
    "execution": {
     "iopub.execute_input": "2024-03-25T03:53:14.880646Z",
     "iopub.status.busy": "2024-03-25T03:53:14.880212Z",
     "iopub.status.idle": "2024-03-25T03:53:14.887721Z",
     "shell.execute_reply": "2024-03-25T03:53:14.886526Z"
    },
    "papermill": {
     "duration": 0.016032,
     "end_time": "2024-03-25T03:53:14.890202",
     "exception": false,
     "start_time": "2024-03-25T03:53:14.874170",
     "status": "completed"
    },
    "tags": []
   },
   "outputs": [],
   "source": [
    "df=df.rename(columns={'country':'negara','child_mort':'kematian_anak','exports':'ekspor','health':'kesehatan','imports':'impor','income':'pendapatan','inflation':'inflasi','life_expec':'harapan_hidup','total_fer':'fer','gdpp':'gdpp'})"
   ]
  },
  {
   "cell_type": "code",
   "execution_count": 4,
   "id": "28ae4236",
   "metadata": {
    "execution": {
     "iopub.execute_input": "2024-03-25T03:53:14.901978Z",
     "iopub.status.busy": "2024-03-25T03:53:14.901576Z",
     "iopub.status.idle": "2024-03-25T03:53:14.921596Z",
     "shell.execute_reply": "2024-03-25T03:53:14.920211Z"
    },
    "papermill": {
     "duration": 0.029381,
     "end_time": "2024-03-25T03:53:14.924531",
     "exception": false,
     "start_time": "2024-03-25T03:53:14.895150",
     "status": "completed"
    },
    "tags": []
   },
   "outputs": [
    {
     "data": {
      "text/html": [
       "<div>\n",
       "<style scoped>\n",
       "    .dataframe tbody tr th:only-of-type {\n",
       "        vertical-align: middle;\n",
       "    }\n",
       "\n",
       "    .dataframe tbody tr th {\n",
       "        vertical-align: top;\n",
       "    }\n",
       "\n",
       "    .dataframe thead th {\n",
       "        text-align: right;\n",
       "    }\n",
       "</style>\n",
       "<table border=\"1\" class=\"dataframe\">\n",
       "  <thead>\n",
       "    <tr style=\"text-align: right;\">\n",
       "      <th></th>\n",
       "      <th>negara</th>\n",
       "      <th>kematian_anak</th>\n",
       "      <th>ekspor</th>\n",
       "      <th>kesehatan</th>\n",
       "      <th>impor</th>\n",
       "      <th>pendapatan</th>\n",
       "      <th>inflasi</th>\n",
       "      <th>harapan_hidup</th>\n",
       "      <th>fer</th>\n",
       "      <th>gdpp</th>\n",
       "    </tr>\n",
       "  </thead>\n",
       "  <tbody>\n",
       "    <tr>\n",
       "      <th>0</th>\n",
       "      <td>Afghanistan</td>\n",
       "      <td>90.2</td>\n",
       "      <td>10.0</td>\n",
       "      <td>7.58</td>\n",
       "      <td>44.9</td>\n",
       "      <td>1610</td>\n",
       "      <td>9.44</td>\n",
       "      <td>56.2</td>\n",
       "      <td>5.82</td>\n",
       "      <td>553</td>\n",
       "    </tr>\n",
       "    <tr>\n",
       "      <th>1</th>\n",
       "      <td>Albania</td>\n",
       "      <td>16.6</td>\n",
       "      <td>28.0</td>\n",
       "      <td>6.55</td>\n",
       "      <td>48.6</td>\n",
       "      <td>9930</td>\n",
       "      <td>4.49</td>\n",
       "      <td>76.3</td>\n",
       "      <td>1.65</td>\n",
       "      <td>4090</td>\n",
       "    </tr>\n",
       "    <tr>\n",
       "      <th>2</th>\n",
       "      <td>Algeria</td>\n",
       "      <td>27.3</td>\n",
       "      <td>38.4</td>\n",
       "      <td>4.17</td>\n",
       "      <td>31.4</td>\n",
       "      <td>12900</td>\n",
       "      <td>16.10</td>\n",
       "      <td>76.5</td>\n",
       "      <td>2.89</td>\n",
       "      <td>4460</td>\n",
       "    </tr>\n",
       "    <tr>\n",
       "      <th>3</th>\n",
       "      <td>Angola</td>\n",
       "      <td>119.0</td>\n",
       "      <td>62.3</td>\n",
       "      <td>2.85</td>\n",
       "      <td>42.9</td>\n",
       "      <td>5900</td>\n",
       "      <td>22.40</td>\n",
       "      <td>60.1</td>\n",
       "      <td>6.16</td>\n",
       "      <td>3530</td>\n",
       "    </tr>\n",
       "    <tr>\n",
       "      <th>4</th>\n",
       "      <td>Antigua and Barbuda</td>\n",
       "      <td>10.3</td>\n",
       "      <td>45.5</td>\n",
       "      <td>6.03</td>\n",
       "      <td>58.9</td>\n",
       "      <td>19100</td>\n",
       "      <td>1.44</td>\n",
       "      <td>76.8</td>\n",
       "      <td>2.13</td>\n",
       "      <td>12200</td>\n",
       "    </tr>\n",
       "  </tbody>\n",
       "</table>\n",
       "</div>"
      ],
      "text/plain": [
       "                negara  kematian_anak  ekspor  kesehatan  impor  pendapatan  \\\n",
       "0          Afghanistan           90.2    10.0       7.58   44.9        1610   \n",
       "1              Albania           16.6    28.0       6.55   48.6        9930   \n",
       "2              Algeria           27.3    38.4       4.17   31.4       12900   \n",
       "3               Angola          119.0    62.3       2.85   42.9        5900   \n",
       "4  Antigua and Barbuda           10.3    45.5       6.03   58.9       19100   \n",
       "\n",
       "   inflasi  harapan_hidup   fer   gdpp  \n",
       "0     9.44           56.2  5.82    553  \n",
       "1     4.49           76.3  1.65   4090  \n",
       "2    16.10           76.5  2.89   4460  \n",
       "3    22.40           60.1  6.16   3530  \n",
       "4     1.44           76.8  2.13  12200  "
      ]
     },
     "execution_count": 4,
     "metadata": {},
     "output_type": "execute_result"
    }
   ],
   "source": [
    "df.head()"
   ]
  },
  {
   "cell_type": "code",
   "execution_count": 5,
   "id": "cdf4a2ae",
   "metadata": {
    "execution": {
     "iopub.execute_input": "2024-03-25T03:53:14.936688Z",
     "iopub.status.busy": "2024-03-25T03:53:14.936259Z",
     "iopub.status.idle": "2024-03-25T03:53:14.957082Z",
     "shell.execute_reply": "2024-03-25T03:53:14.955846Z"
    },
    "papermill": {
     "duration": 0.030114,
     "end_time": "2024-03-25T03:53:14.959935",
     "exception": false,
     "start_time": "2024-03-25T03:53:14.929821",
     "status": "completed"
    },
    "tags": []
   },
   "outputs": [
    {
     "data": {
      "text/html": [
       "<div>\n",
       "<style scoped>\n",
       "    .dataframe tbody tr th:only-of-type {\n",
       "        vertical-align: middle;\n",
       "    }\n",
       "\n",
       "    .dataframe tbody tr th {\n",
       "        vertical-align: top;\n",
       "    }\n",
       "\n",
       "    .dataframe thead th {\n",
       "        text-align: right;\n",
       "    }\n",
       "</style>\n",
       "<table border=\"1\" class=\"dataframe\">\n",
       "  <thead>\n",
       "    <tr style=\"text-align: right;\">\n",
       "      <th></th>\n",
       "      <th>kematian_anak</th>\n",
       "      <th>ekspor</th>\n",
       "      <th>kesehatan</th>\n",
       "      <th>impor</th>\n",
       "      <th>pendapatan</th>\n",
       "      <th>inflasi</th>\n",
       "      <th>fer</th>\n",
       "      <th>gdpp</th>\n",
       "    </tr>\n",
       "  </thead>\n",
       "  <tbody>\n",
       "    <tr>\n",
       "      <th>0</th>\n",
       "      <td>90.2</td>\n",
       "      <td>10.0</td>\n",
       "      <td>7.58</td>\n",
       "      <td>44.9</td>\n",
       "      <td>1610</td>\n",
       "      <td>9.44</td>\n",
       "      <td>5.82</td>\n",
       "      <td>553</td>\n",
       "    </tr>\n",
       "    <tr>\n",
       "      <th>1</th>\n",
       "      <td>16.6</td>\n",
       "      <td>28.0</td>\n",
       "      <td>6.55</td>\n",
       "      <td>48.6</td>\n",
       "      <td>9930</td>\n",
       "      <td>4.49</td>\n",
       "      <td>1.65</td>\n",
       "      <td>4090</td>\n",
       "    </tr>\n",
       "    <tr>\n",
       "      <th>2</th>\n",
       "      <td>27.3</td>\n",
       "      <td>38.4</td>\n",
       "      <td>4.17</td>\n",
       "      <td>31.4</td>\n",
       "      <td>12900</td>\n",
       "      <td>16.10</td>\n",
       "      <td>2.89</td>\n",
       "      <td>4460</td>\n",
       "    </tr>\n",
       "    <tr>\n",
       "      <th>3</th>\n",
       "      <td>119.0</td>\n",
       "      <td>62.3</td>\n",
       "      <td>2.85</td>\n",
       "      <td>42.9</td>\n",
       "      <td>5900</td>\n",
       "      <td>22.40</td>\n",
       "      <td>6.16</td>\n",
       "      <td>3530</td>\n",
       "    </tr>\n",
       "    <tr>\n",
       "      <th>4</th>\n",
       "      <td>10.3</td>\n",
       "      <td>45.5</td>\n",
       "      <td>6.03</td>\n",
       "      <td>58.9</td>\n",
       "      <td>19100</td>\n",
       "      <td>1.44</td>\n",
       "      <td>2.13</td>\n",
       "      <td>12200</td>\n",
       "    </tr>\n",
       "  </tbody>\n",
       "</table>\n",
       "</div>"
      ],
      "text/plain": [
       "   kematian_anak  ekspor  kesehatan  impor  pendapatan  inflasi   fer   gdpp\n",
       "0           90.2    10.0       7.58   44.9        1610     9.44  5.82    553\n",
       "1           16.6    28.0       6.55   48.6        9930     4.49  1.65   4090\n",
       "2           27.3    38.4       4.17   31.4       12900    16.10  2.89   4460\n",
       "3          119.0    62.3       2.85   42.9        5900    22.40  6.16   3530\n",
       "4           10.3    45.5       6.03   58.9       19100     1.44  2.13  12200"
      ]
     },
     "execution_count": 5,
     "metadata": {},
     "output_type": "execute_result"
    }
   ],
   "source": [
    "X=df.drop(['negara','harapan_hidup'], axis=1)\n",
    "X.head()"
   ]
  },
  {
   "cell_type": "code",
   "execution_count": 6,
   "id": "937802f3",
   "metadata": {
    "execution": {
     "iopub.execute_input": "2024-03-25T03:53:14.973298Z",
     "iopub.status.busy": "2024-03-25T03:53:14.972408Z",
     "iopub.status.idle": "2024-03-25T03:53:17.241905Z",
     "shell.execute_reply": "2024-03-25T03:53:17.240753Z"
    },
    "papermill": {
     "duration": 2.279041,
     "end_time": "2024-03-25T03:53:17.244399",
     "exception": false,
     "start_time": "2024-03-25T03:53:14.965358",
     "status": "completed"
    },
    "tags": []
   },
   "outputs": [
    {
     "name": "stderr",
     "output_type": "stream",
     "text": [
      "/opt/conda/lib/python3.10/site-packages/sklearn/cluster/_kmeans.py:870: FutureWarning: The default value of `n_init` will change from 10 to 'auto' in 1.4. Set the value of `n_init` explicitly to suppress the warning\n",
      "  warnings.warn(\n",
      "/opt/conda/lib/python3.10/site-packages/sklearn/cluster/_kmeans.py:870: FutureWarning: The default value of `n_init` will change from 10 to 'auto' in 1.4. Set the value of `n_init` explicitly to suppress the warning\n",
      "  warnings.warn(\n",
      "/opt/conda/lib/python3.10/site-packages/sklearn/cluster/_kmeans.py:870: FutureWarning: The default value of `n_init` will change from 10 to 'auto' in 1.4. Set the value of `n_init` explicitly to suppress the warning\n",
      "  warnings.warn(\n",
      "/opt/conda/lib/python3.10/site-packages/sklearn/cluster/_kmeans.py:870: FutureWarning: The default value of `n_init` will change from 10 to 'auto' in 1.4. Set the value of `n_init` explicitly to suppress the warning\n",
      "  warnings.warn(\n",
      "/opt/conda/lib/python3.10/site-packages/sklearn/cluster/_kmeans.py:870: FutureWarning: The default value of `n_init` will change from 10 to 'auto' in 1.4. Set the value of `n_init` explicitly to suppress the warning\n",
      "  warnings.warn(\n",
      "/opt/conda/lib/python3.10/site-packages/sklearn/cluster/_kmeans.py:870: FutureWarning: The default value of `n_init` will change from 10 to 'auto' in 1.4. Set the value of `n_init` explicitly to suppress the warning\n",
      "  warnings.warn(\n",
      "/opt/conda/lib/python3.10/site-packages/sklearn/cluster/_kmeans.py:870: FutureWarning: The default value of `n_init` will change from 10 to 'auto' in 1.4. Set the value of `n_init` explicitly to suppress the warning\n",
      "  warnings.warn(\n",
      "/opt/conda/lib/python3.10/site-packages/sklearn/cluster/_kmeans.py:870: FutureWarning: The default value of `n_init` will change from 10 to 'auto' in 1.4. Set the value of `n_init` explicitly to suppress the warning\n",
      "  warnings.warn(\n",
      "/opt/conda/lib/python3.10/site-packages/sklearn/cluster/_kmeans.py:870: FutureWarning: The default value of `n_init` will change from 10 to 'auto' in 1.4. Set the value of `n_init` explicitly to suppress the warning\n",
      "  warnings.warn(\n",
      "/opt/conda/lib/python3.10/site-packages/sklearn/cluster/_kmeans.py:870: FutureWarning: The default value of `n_init` will change from 10 to 'auto' in 1.4. Set the value of `n_init` explicitly to suppress the warning\n",
      "  warnings.warn(\n"
     ]
    }
   ],
   "source": [
    "from sklearn.cluster import KMeans\n",
    "clusters=[]\n",
    "for i in range(1,11):\n",
    "    km=KMeans(n_clusters=i).fit(X)\n",
    "    clusters.append(km.inertia_)"
   ]
  },
  {
   "cell_type": "code",
   "execution_count": 7,
   "id": "55229565",
   "metadata": {
    "execution": {
     "iopub.execute_input": "2024-03-25T03:53:17.258909Z",
     "iopub.status.busy": "2024-03-25T03:53:17.258446Z",
     "iopub.status.idle": "2024-03-25T03:53:17.967562Z",
     "shell.execute_reply": "2024-03-25T03:53:17.966349Z"
    },
    "papermill": {
     "duration": 0.719378,
     "end_time": "2024-03-25T03:53:17.970233",
     "exception": false,
     "start_time": "2024-03-25T03:53:17.250855",
     "status": "completed"
    },
    "tags": []
   },
   "outputs": [
    {
     "name": "stderr",
     "output_type": "stream",
     "text": [
      "/opt/conda/lib/python3.10/site-packages/seaborn/_oldcore.py:1119: FutureWarning: use_inf_as_na option is deprecated and will be removed in a future version. Convert inf values to NaN before operating instead.\n",
      "  with pd.option_context('mode.use_inf_as_na', True):\n",
      "/opt/conda/lib/python3.10/site-packages/seaborn/_oldcore.py:1119: FutureWarning: use_inf_as_na option is deprecated and will be removed in a future version. Convert inf values to NaN before operating instead.\n",
      "  with pd.option_context('mode.use_inf_as_na', True):\n"
     ]
    },
    {
     "data": {
      "text/plain": [
       "Text(0, 0.5, 'Inertia')"
      ]
     },
     "execution_count": 7,
     "metadata": {},
     "output_type": "execute_result"
    },
    {
     "data": {
      "image/png": "[encoded data removed]",
      "text/plain": [
       "<Figure size 800x400 with 1 Axes>"
      ]
     },
     "metadata": {},
     "output_type": "display_data"
    }
   ],
   "source": [
    "import matplotlib.pyplot as plt\n",
    "%matplotlib inline\n",
    "import seaborn as sns\n",
    "\n",
    "fig,ax=plt.subplots(figsize=(8,4))\n",
    "sns.lineplot(x=list(range(1,11)),y=clusters,ax=ax)\n",
    "ax.set_title('Cari Elbow')\n",
    "ax.set_xlabel('Clusters')\n",
    "ax.set_ylabel('Inertia')"
   ]
  },
  {
   "cell_type": "code",
   "execution_count": 8,
   "id": "d49394e1",
   "metadata": {
    "execution": {
     "iopub.execute_input": "2024-03-25T03:53:17.984938Z",
     "iopub.status.busy": "2024-03-25T03:53:17.984504Z",
     "iopub.status.idle": "2024-03-25T03:53:18.023824Z",
     "shell.execute_reply": "2024-03-25T03:53:18.015814Z"
    },
    "papermill": {
     "duration": 0.050591,
     "end_time": "2024-03-25T03:53:18.027186",
     "exception": false,
     "start_time": "2024-03-25T03:53:17.976595",
     "status": "completed"
    },
    "tags": []
   },
   "outputs": [
    {
     "name": "stderr",
     "output_type": "stream",
     "text": [
      "/opt/conda/lib/python3.10/site-packages/sklearn/cluster/_kmeans.py:870: FutureWarning: The default value of `n_init` will change from 10 to 'auto' in 1.4. Set the value of `n_init` explicitly to suppress the warning\n",
      "  warnings.warn(\n"
     ]
    }
   ],
   "source": [
    "km5=KMeans(n_clusters=5).fit(X)"
   ]
  },
  {
   "cell_type": "code",
   "execution_count": 9,
   "id": "dcf98c35",
   "metadata": {
    "execution": {
     "iopub.execute_input": "2024-03-25T03:53:18.043220Z",
     "iopub.status.busy": "2024-03-25T03:53:18.042803Z",
     "iopub.status.idle": "2024-03-25T03:53:18.049395Z",
     "shell.execute_reply": "2024-03-25T03:53:18.048046Z"
    },
    "papermill": {
     "duration": 0.017525,
     "end_time": "2024-03-25T03:53:18.052058",
     "exception": false,
     "start_time": "2024-03-25T03:53:18.034533",
     "status": "completed"
    },
    "tags": []
   },
   "outputs": [],
   "source": [
    "X['Labels']=km5.labels_"
   ]
  },
  {
   "cell_type": "code",
   "execution_count": 10,
   "id": "d1fbc98f",
   "metadata": {
    "execution": {
     "iopub.execute_input": "2024-03-25T03:53:18.066725Z",
     "iopub.status.busy": "2024-03-25T03:53:18.066279Z",
     "iopub.status.idle": "2024-03-25T03:53:18.467447Z",
     "shell.execute_reply": "2024-03-25T03:53:18.466255Z"
    },
    "papermill": {
     "duration": 0.411577,
     "end_time": "2024-03-25T03:53:18.470154",
     "exception": false,
     "start_time": "2024-03-25T03:53:18.058577",
     "status": "completed"
    },
    "tags": []
   },
   "outputs": [
    {
     "data": {
      "image/png": "[encoded data removed]",
      "text/plain": [
       "<Figure size 800x400 with 1 Axes>"
      ]
     },
     "metadata": {},
     "output_type": "display_data"
    }
   ],
   "source": [
    "plt.figure(figsize=(8,4))\n",
    "sns.scatterplot(x=X['pendapatan'],y=X['gdpp'],hue=X['Labels'],\n",
    "               palette=sns.color_palette('hls',5))\n",
    "plt.title('KMeans dengan 5 Cluster')\n",
    "plt.show()"
   ]
  }
 ],
 "metadata": {
  "kaggle": {
   "accelerator": "none",
   "dataSources": [
    {
     "datasetId": 4663100,
     "sourceId": 7932953,
     "sourceType": "datasetVersion"
    }
   ],
   "dockerImageVersionId": 30673,
   "isGpuEnabled": false,
   "isInternetEnabled": true,
   "language": "python",
   "sourceType": "notebook"
  },
  "kernelspec": {
   "display_name": "Python 3",
   "language": "python",
   "name": "python3"
  },
  "language_info": {
   "codemirror_mode": {
    "name": "ipython",
    "version": 3
   },
   "file_extension": ".py",
   "mimetype": "text/x-python",
   "name": "python",
   "nbconvert_exporter": "python",
   "pygments_lexer": "ipython3",
   "version": "3.10.13"
  },
  "papermill": {
   "default_parameters": {},
   "duration": 8.527348,
   "end_time": "2024-03-25T03:53:19.097856",
   "environment_variables": {},
   "exception": null,
   "input_path": "__notebook__.ipynb",
   "output_path": "__notebook__.ipynb",
   "parameters": {},
   "start_time": "2024-03-25T03:53:10.570508",
   "version": "2.5.0"
  }
 },
 "nbformat": 4,
 "nbformat_minor": 5
}
